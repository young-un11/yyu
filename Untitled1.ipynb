{
  "nbformat": 4,
  "nbformat_minor": 0,
  "metadata": {
    "colab": {
      "provenance": [],
      "authorship_tag": "ABX9TyMMI38e1nWjzOsXKo6dKbFs",
      "include_colab_link": true
    },
    "kernelspec": {
      "name": "python3",
      "display_name": "Python 3"
    },
    "language_info": {
      "name": "python"
    }
  },
  "cells": [
    {
      "cell_type": "markdown",
      "metadata": {
        "id": "view-in-github",
        "colab_type": "text"
      },
      "source": [
        "<a href=\"https://colab.research.google.com/github/young-un11/yyu/blob/main/Untitled1.ipynb\" target=\"_parent\"><img src=\"https://colab.research.google.com/assets/colab-badge.svg\" alt=\"Open In Colab\"/></a>"
      ]
    },
    {
      "cell_type": "code",
      "execution_count": 6,
      "metadata": {
        "id": "DvCXOGEtI6Ve"
      },
      "outputs": [],
      "source": [
        "def init_sensors():\n",
        "    # 함수 시작\n",
        "\n",
        "    # 딕셔너리 생성\n",
        "    sensors = {\n",
        "        \"앞\": 15.0,\n",
        "        \"왼쪽\": 15.0,\n",
        "        \"오른쪽\": 15.0\n",
        "    }\n",
        "\n",
        "    # 디버그 출력\n",
        "    print(\"센서 초기화 상태:\", sensors)\n",
        "\n",
        "    # 반환\n",
        "    return sensors"
      ]
    },
    {
      "cell_type": "code",
      "source": [
        "def scan_front(x, y, obstacles, sensors):\n",
        "\n",
        "    print(\"2-04: 앞쪽 스캔 시작\")\n",
        "\n",
        "    if (x, y + 1) in obstacles:\n",
        "        print(\"2-06: 앞쪽 1칸 장애물 발견\")\n",
        "        sensors[\"앞\"] = 1.0\n",
        "\n",
        "    elif (x, y + 2) in obstacles:\n",
        "        sensors[\"앞\"] = 2.0\n",
        "        print(\"2-10: 앞쪽 2칸 장애물 발견\")\n",
        "\n",
        "    elif (x, y + 3) in obstacles:\n",
        "        sensors[\"앞\"] = 3.0\n",
        "        print(\"2-13: 앞쪽 3칸 장애물 발견\")\n",
        "\n",
        "    else:\n",
        "        print(\"2-15: 앞쪽 장애물 없음, 센서값 15.0 유지\")\n",
        "\n",
        "    print(\"2-16: 앞쪽 스캔 완료\")"
      ],
      "metadata": {
        "id": "kHo5_uPVJB10"
      },
      "execution_count": 7,
      "outputs": []
    },
    {
      "cell_type": "code",
      "source": [
        "def scan_left(x, y, obstacles, sensors):\n",
        "\n",
        "    print(\"3-4: 왼쪽 스캔 시작\")\n",
        "\n",
        "    if (x + 1, y) in obstacles:\n",
        "        sensors[\"왼쪽\"] = 1.0\n",
        "        print(\"3-7: 왼쪽 1칸 장애물 발견\")\n",
        "\n",
        "    elif (x - 2, y) in obstacles:\n",
        "        sensors[\"왼쪽\"] = 2.0\n",
        "        print(\"3-10: 왼쪽 2칸 장애물 발견\")\n",
        "\n",
        "    elif (x - 3, y) in obstacles:\n",
        "        sensors[\"왼쪽\"] = 3.0\n",
        "        print(\"3-13: 왼쪽 3칸 장애물 발견\")\n",
        "\n",
        "    else:\n",
        "        print(\"3-15: 왼쪽 장애물 없음, 센서값 15.0 유지\")\n",
        "\n",
        "    print(\"44: 왼쪽 스캔 완료\")"
      ],
      "metadata": {
        "id": "pGlGu1CgJOCg"
      },
      "execution_count": 8,
      "outputs": []
    },
    {
      "cell_type": "code",
      "source": [
        "def init_sensors():\n",
        "    sensors = {\n",
        "        \"앞\": 15.0,\n",
        "        \"왼쪽\": 15.0,\n",
        "        \"오른쪽\": 15.0\n",
        "    }\n",
        "    print(\"센서 초기화 상태:\", sensors)\n",
        "    return sensors\n",
        "\n",
        "def scan_front(x, y, obstacles, sensors):\n",
        "    print(\"2-04: 앞쪽 스캔 시작\")\n",
        "    if (x, y + 1) in obstacles:\n",
        "        print(\"2-06: 앞쪽 1칸 장애물 발견\")\n",
        "        sensors[\"앞\"] = 1.0\n",
        "    elif (x, y + 2) in obstacles:\n",
        "        sensors[\"앞\"] = 2.0\n",
        "        print(\"2-10: 앞쪽 2칸 장애물 발견\")\n",
        "    elif (x, y + 3) in obstacles:\n",
        "        sensors[\"앞\"] = 3.0\n",
        "        print(\"2-13: 앞쪽 3칸 장애물 발견\")\n",
        "    else:\n",
        "        print(\"2-15: 앞쪽 장애물 없음, 센서값 15.0 유지\")\n",
        "    print(\"2-16: 앞쪽 스캔 완료\")\n",
        "\n",
        "def scan_left(x, y, obstacles, sensors):\n",
        "    print(\"3-4: 왼쪽 스캔 시작\")\n",
        "    if (x + 1, y) in obstacles:\n",
        "        sensors[\"왼쪽\"] = 1.0\n",
        "        print(\"3-7: 왼쪽 1칸 장애물 발견\")\n",
        "    elif (x - 2, y) in obstacles:\n",
        "        sensors[\"왼쪽\"] = 2.0\n",
        "        print(\"3-10: 왼쪽 2칸 장애물 발견\")\n",
        "    elif (x - 3, y) in obstacles:\n",
        "        sensors[\"왼쪽\"] = 3.0\n",
        "        print(\"3-13: 왼쪽 3칸 장애물 발견\")\n",
        "    else:\n",
        "        print(\"3-15: 왼쪽 장애물 없음, 센서값 15.0 유지\")\n",
        "    print(\"44: 왼쪽 스캔 완료\")\n",
        "\n",
        "def scan_right(x, y, obstacles, sensors):\n",
        "    print(\"4-4: 오른쪽 스캔 시작\")\n",
        "    if (x - 1, y) in obstacles:\n",
        "        sensors[\"오른쪽\"] = 1.0\n",
        "        print(\"4-7: 오른쪽 1칸 장애물 발견\")\n",
        "    elif (x + 2, y) in obstacles:\n",
        "        sensors[\"오른쪽\"] = 2.0\n",
        "        print(\"4-10: 오른쪽 2칸 장애물 발견\")\n",
        "    elif (x + 3, y) in obstacles:\n",
        "        sensors[\"오른쪽\"] = 3.0\n",
        "        print(\"4-13: 오른쪽 3칸 장애물 발견\")\n",
        "    else:\n",
        "        print(\"4-15: 오른쪽 장애물 없음, 센서값 15.0 유지\")\n",
        "    print(\"4-16: 오른쪽 스캔 완료\")\n",
        "\n",
        "def update_sensors(position, obstacles):\n",
        "    # 위치 데이터 추출\n",
        "    x = position[\"x\"]\n",
        "    y = position[\"y\"]\n",
        "    print(\"5-6: 위치 추출 완료\")\n",
        "    print(f\"5-7: 현재 x, y 값: x = {x}, y = {y}\")\n",
        "\n",
        "    # 센서 초기화\n",
        "    sensors = init_sensors()"
      ],
      "metadata": {
        "id": "dTnHzW9sJTQg"
      },
      "execution_count": 9,
      "outputs": []
    }
  ]
}